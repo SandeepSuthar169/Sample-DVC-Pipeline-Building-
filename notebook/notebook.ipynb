{
 "cells": [
  {
   "cell_type": "code",
   "execution_count": 108,
   "id": "67919d43",
   "metadata": {},
   "outputs": [],
   "source": [
    "import pandas as pd\n",
    "import numpy as np \n",
    "import matplotlib.pyplot as plt\n",
    "import seaborn as sns\n",
    "import pickle\n",
    "from sklearn.model_selection import train_test_split\n",
    "from sklearn.metrics import accuracy_score, precision_score, f1_score, recall_score\n",
    "from sklearn.ensemble import RandomForestClassifier\n",
    "from sklearn.preprocessing import StandardScaler, MinMaxScaler, LabelEncoder, OrdinalEncoder"
   ]
  },
  {
   "cell_type": "code",
   "execution_count": 83,
   "id": "aede643d",
   "metadata": {},
   "outputs": [
    {
     "data": {
      "application/vnd.microsoft.datawrangler.viewer.v0+json": {
       "columns": [
        {
         "name": "index",
         "rawType": "int64",
         "type": "integer"
        },
        {
         "name": "gender",
         "rawType": "object",
         "type": "string"
        },
        {
         "name": "age",
         "rawType": "float64",
         "type": "float"
        },
        {
         "name": "hypertension",
         "rawType": "int64",
         "type": "integer"
        },
        {
         "name": "heart_disease",
         "rawType": "int64",
         "type": "integer"
        },
        {
         "name": "smoking_history",
         "rawType": "object",
         "type": "string"
        },
        {
         "name": "bmi",
         "rawType": "float64",
         "type": "float"
        },
        {
         "name": "HbA1c_level",
         "rawType": "float64",
         "type": "float"
        },
        {
         "name": "blood_glucose_level",
         "rawType": "int64",
         "type": "integer"
        },
        {
         "name": "diabetes",
         "rawType": "int64",
         "type": "integer"
        }
       ],
       "conversionMethod": "pd.DataFrame",
       "ref": "13755910-45ef-4ae1-8a20-1bcbf53392b8",
       "rows": [
        [
         "0",
         "Female",
         "80.0",
         "0",
         "1",
         "never",
         "25.19",
         "6.6",
         "140",
         "0"
        ],
        [
         "1",
         "Female",
         "54.0",
         "0",
         "0",
         "No Info",
         "27.32",
         "6.6",
         "80",
         "0"
        ],
        [
         "2",
         "Male",
         "28.0",
         "0",
         "0",
         "never",
         "27.32",
         "5.7",
         "158",
         "0"
        ],
        [
         "3",
         "Female",
         "36.0",
         "0",
         "0",
         "current",
         "23.45",
         "5.0",
         "155",
         "0"
        ],
        [
         "4",
         "Male",
         "76.0",
         "1",
         "1",
         "current",
         "20.14",
         "4.8",
         "155",
         "0"
        ]
       ],
       "shape": {
        "columns": 9,
        "rows": 5
       }
      },
      "text/html": [
       "<div>\n",
       "<style scoped>\n",
       "    .dataframe tbody tr th:only-of-type {\n",
       "        vertical-align: middle;\n",
       "    }\n",
       "\n",
       "    .dataframe tbody tr th {\n",
       "        vertical-align: top;\n",
       "    }\n",
       "\n",
       "    .dataframe thead th {\n",
       "        text-align: right;\n",
       "    }\n",
       "</style>\n",
       "<table border=\"1\" class=\"dataframe\">\n",
       "  <thead>\n",
       "    <tr style=\"text-align: right;\">\n",
       "      <th></th>\n",
       "      <th>gender</th>\n",
       "      <th>age</th>\n",
       "      <th>hypertension</th>\n",
       "      <th>heart_disease</th>\n",
       "      <th>smoking_history</th>\n",
       "      <th>bmi</th>\n",
       "      <th>HbA1c_level</th>\n",
       "      <th>blood_glucose_level</th>\n",
       "      <th>diabetes</th>\n",
       "    </tr>\n",
       "  </thead>\n",
       "  <tbody>\n",
       "    <tr>\n",
       "      <th>0</th>\n",
       "      <td>Female</td>\n",
       "      <td>80.0</td>\n",
       "      <td>0</td>\n",
       "      <td>1</td>\n",
       "      <td>never</td>\n",
       "      <td>25.19</td>\n",
       "      <td>6.6</td>\n",
       "      <td>140</td>\n",
       "      <td>0</td>\n",
       "    </tr>\n",
       "    <tr>\n",
       "      <th>1</th>\n",
       "      <td>Female</td>\n",
       "      <td>54.0</td>\n",
       "      <td>0</td>\n",
       "      <td>0</td>\n",
       "      <td>No Info</td>\n",
       "      <td>27.32</td>\n",
       "      <td>6.6</td>\n",
       "      <td>80</td>\n",
       "      <td>0</td>\n",
       "    </tr>\n",
       "    <tr>\n",
       "      <th>2</th>\n",
       "      <td>Male</td>\n",
       "      <td>28.0</td>\n",
       "      <td>0</td>\n",
       "      <td>0</td>\n",
       "      <td>never</td>\n",
       "      <td>27.32</td>\n",
       "      <td>5.7</td>\n",
       "      <td>158</td>\n",
       "      <td>0</td>\n",
       "    </tr>\n",
       "    <tr>\n",
       "      <th>3</th>\n",
       "      <td>Female</td>\n",
       "      <td>36.0</td>\n",
       "      <td>0</td>\n",
       "      <td>0</td>\n",
       "      <td>current</td>\n",
       "      <td>23.45</td>\n",
       "      <td>5.0</td>\n",
       "      <td>155</td>\n",
       "      <td>0</td>\n",
       "    </tr>\n",
       "    <tr>\n",
       "      <th>4</th>\n",
       "      <td>Male</td>\n",
       "      <td>76.0</td>\n",
       "      <td>1</td>\n",
       "      <td>1</td>\n",
       "      <td>current</td>\n",
       "      <td>20.14</td>\n",
       "      <td>4.8</td>\n",
       "      <td>155</td>\n",
       "      <td>0</td>\n",
       "    </tr>\n",
       "  </tbody>\n",
       "</table>\n",
       "</div>"
      ],
      "text/plain": [
       "   gender   age  hypertension  heart_disease smoking_history    bmi  \\\n",
       "0  Female  80.0             0              1           never  25.19   \n",
       "1  Female  54.0             0              0         No Info  27.32   \n",
       "2    Male  28.0             0              0           never  27.32   \n",
       "3  Female  36.0             0              0         current  23.45   \n",
       "4    Male  76.0             1              1         current  20.14   \n",
       "\n",
       "   HbA1c_level  blood_glucose_level  diabetes  \n",
       "0          6.6                  140         0  \n",
       "1          6.6                   80         0  \n",
       "2          5.7                  158         0  \n",
       "3          5.0                  155         0  \n",
       "4          4.8                  155         0  "
      ]
     },
     "execution_count": 83,
     "metadata": {},
     "output_type": "execute_result"
    }
   ],
   "source": [
    "df = pd.read_csv(\"C:/Users/Sande/Desktop/Datasets/diabetes_prediction_dataset.csv\")\n",
    "df.head()"
   ]
  },
  {
   "cell_type": "code",
   "execution_count": 84,
   "id": "1324dc90",
   "metadata": {},
   "outputs": [
    {
     "data": {
      "text/plain": [
       "gender                 0\n",
       "age                    0\n",
       "hypertension           0\n",
       "heart_disease          0\n",
       "smoking_history        0\n",
       "bmi                    0\n",
       "HbA1c_level            0\n",
       "blood_glucose_level    0\n",
       "diabetes               0\n",
       "dtype: int64"
      ]
     },
     "execution_count": 84,
     "metadata": {},
     "output_type": "execute_result"
    }
   ],
   "source": [
    "df.isnull().sum()"
   ]
  },
  {
   "cell_type": "code",
   "execution_count": 85,
   "id": "dccb0c45",
   "metadata": {},
   "outputs": [
    {
     "data": {
      "application/vnd.microsoft.datawrangler.viewer.v0+json": {
       "columns": [
        {
         "name": "index",
         "rawType": "object",
         "type": "string"
        },
        {
         "name": "count",
         "rawType": "float64",
         "type": "float"
        },
        {
         "name": "mean",
         "rawType": "float64",
         "type": "float"
        },
        {
         "name": "std",
         "rawType": "float64",
         "type": "float"
        },
        {
         "name": "min",
         "rawType": "float64",
         "type": "float"
        },
        {
         "name": "25%",
         "rawType": "float64",
         "type": "float"
        },
        {
         "name": "50%",
         "rawType": "float64",
         "type": "float"
        },
        {
         "name": "75%",
         "rawType": "float64",
         "type": "float"
        },
        {
         "name": "max",
         "rawType": "float64",
         "type": "float"
        }
       ],
       "conversionMethod": "pd.DataFrame",
       "ref": "11b65008-cfec-43f8-bf13-82ecbaa4403e",
       "rows": [
        [
         "age",
         "100000.0",
         "41.885856",
         "22.516839871617023",
         "0.08",
         "24.0",
         "43.0",
         "60.0",
         "80.0"
        ],
        [
         "hypertension",
         "100000.0",
         "0.07485",
         "0.2631504702289164",
         "0.0",
         "0.0",
         "0.0",
         "0.0",
         "1.0"
        ],
        [
         "heart_disease",
         "100000.0",
         "0.03942",
         "0.1945930169980995",
         "0.0",
         "0.0",
         "0.0",
         "0.0",
         "1.0"
        ],
        [
         "bmi",
         "100000.0",
         "27.3207671",
         "6.636783416648369",
         "10.01",
         "23.63",
         "27.32",
         "29.58",
         "95.69"
        ],
        [
         "HbA1c_level",
         "100000.0",
         "5.527507",
         "1.0706720918835437",
         "3.5",
         "4.8",
         "5.8",
         "6.2",
         "9.0"
        ],
        [
         "blood_glucose_level",
         "100000.0",
         "138.05806",
         "40.708136048704134",
         "80.0",
         "100.0",
         "140.0",
         "159.0",
         "300.0"
        ],
        [
         "diabetes",
         "100000.0",
         "0.085",
         "0.27888308976662174",
         "0.0",
         "0.0",
         "0.0",
         "0.0",
         "1.0"
        ]
       ],
       "shape": {
        "columns": 8,
        "rows": 7
       }
      },
      "text/html": [
       "<div>\n",
       "<style scoped>\n",
       "    .dataframe tbody tr th:only-of-type {\n",
       "        vertical-align: middle;\n",
       "    }\n",
       "\n",
       "    .dataframe tbody tr th {\n",
       "        vertical-align: top;\n",
       "    }\n",
       "\n",
       "    .dataframe thead th {\n",
       "        text-align: right;\n",
       "    }\n",
       "</style>\n",
       "<table border=\"1\" class=\"dataframe\">\n",
       "  <thead>\n",
       "    <tr style=\"text-align: right;\">\n",
       "      <th></th>\n",
       "      <th>count</th>\n",
       "      <th>mean</th>\n",
       "      <th>std</th>\n",
       "      <th>min</th>\n",
       "      <th>25%</th>\n",
       "      <th>50%</th>\n",
       "      <th>75%</th>\n",
       "      <th>max</th>\n",
       "    </tr>\n",
       "  </thead>\n",
       "  <tbody>\n",
       "    <tr>\n",
       "      <th>age</th>\n",
       "      <td>100000.0</td>\n",
       "      <td>41.885856</td>\n",
       "      <td>22.516840</td>\n",
       "      <td>0.08</td>\n",
       "      <td>24.00</td>\n",
       "      <td>43.00</td>\n",
       "      <td>60.00</td>\n",
       "      <td>80.00</td>\n",
       "    </tr>\n",
       "    <tr>\n",
       "      <th>hypertension</th>\n",
       "      <td>100000.0</td>\n",
       "      <td>0.074850</td>\n",
       "      <td>0.263150</td>\n",
       "      <td>0.00</td>\n",
       "      <td>0.00</td>\n",
       "      <td>0.00</td>\n",
       "      <td>0.00</td>\n",
       "      <td>1.00</td>\n",
       "    </tr>\n",
       "    <tr>\n",
       "      <th>heart_disease</th>\n",
       "      <td>100000.0</td>\n",
       "      <td>0.039420</td>\n",
       "      <td>0.194593</td>\n",
       "      <td>0.00</td>\n",
       "      <td>0.00</td>\n",
       "      <td>0.00</td>\n",
       "      <td>0.00</td>\n",
       "      <td>1.00</td>\n",
       "    </tr>\n",
       "    <tr>\n",
       "      <th>bmi</th>\n",
       "      <td>100000.0</td>\n",
       "      <td>27.320767</td>\n",
       "      <td>6.636783</td>\n",
       "      <td>10.01</td>\n",
       "      <td>23.63</td>\n",
       "      <td>27.32</td>\n",
       "      <td>29.58</td>\n",
       "      <td>95.69</td>\n",
       "    </tr>\n",
       "    <tr>\n",
       "      <th>HbA1c_level</th>\n",
       "      <td>100000.0</td>\n",
       "      <td>5.527507</td>\n",
       "      <td>1.070672</td>\n",
       "      <td>3.50</td>\n",
       "      <td>4.80</td>\n",
       "      <td>5.80</td>\n",
       "      <td>6.20</td>\n",
       "      <td>9.00</td>\n",
       "    </tr>\n",
       "    <tr>\n",
       "      <th>blood_glucose_level</th>\n",
       "      <td>100000.0</td>\n",
       "      <td>138.058060</td>\n",
       "      <td>40.708136</td>\n",
       "      <td>80.00</td>\n",
       "      <td>100.00</td>\n",
       "      <td>140.00</td>\n",
       "      <td>159.00</td>\n",
       "      <td>300.00</td>\n",
       "    </tr>\n",
       "    <tr>\n",
       "      <th>diabetes</th>\n",
       "      <td>100000.0</td>\n",
       "      <td>0.085000</td>\n",
       "      <td>0.278883</td>\n",
       "      <td>0.00</td>\n",
       "      <td>0.00</td>\n",
       "      <td>0.00</td>\n",
       "      <td>0.00</td>\n",
       "      <td>1.00</td>\n",
       "    </tr>\n",
       "  </tbody>\n",
       "</table>\n",
       "</div>"
      ],
      "text/plain": [
       "                        count        mean        std    min     25%     50%  \\\n",
       "age                  100000.0   41.885856  22.516840   0.08   24.00   43.00   \n",
       "hypertension         100000.0    0.074850   0.263150   0.00    0.00    0.00   \n",
       "heart_disease        100000.0    0.039420   0.194593   0.00    0.00    0.00   \n",
       "bmi                  100000.0   27.320767   6.636783  10.01   23.63   27.32   \n",
       "HbA1c_level          100000.0    5.527507   1.070672   3.50    4.80    5.80   \n",
       "blood_glucose_level  100000.0  138.058060  40.708136  80.00  100.00  140.00   \n",
       "diabetes             100000.0    0.085000   0.278883   0.00    0.00    0.00   \n",
       "\n",
       "                        75%     max  \n",
       "age                   60.00   80.00  \n",
       "hypertension           0.00    1.00  \n",
       "heart_disease          0.00    1.00  \n",
       "bmi                   29.58   95.69  \n",
       "HbA1c_level            6.20    9.00  \n",
       "blood_glucose_level  159.00  300.00  \n",
       "diabetes               0.00    1.00  "
      ]
     },
     "execution_count": 85,
     "metadata": {},
     "output_type": "execute_result"
    }
   ],
   "source": [
    "df.describe().T"
   ]
  },
  {
   "cell_type": "code",
   "execution_count": 86,
   "id": "36000b44",
   "metadata": {},
   "outputs": [
    {
     "data": {
      "text/plain": [
       "smoking_history\n",
       "No Info        35816\n",
       "never          35095\n",
       "former          9352\n",
       "current         9286\n",
       "not current     6447\n",
       "ever            4004\n",
       "Name: count, dtype: int64"
      ]
     },
     "execution_count": 86,
     "metadata": {},
     "output_type": "execute_result"
    }
   ],
   "source": [
    "df['smoking_history'].value_counts()"
   ]
  },
  {
   "cell_type": "code",
   "execution_count": 96,
   "id": "ec8a522b",
   "metadata": {},
   "outputs": [
    {
     "data": {
      "text/plain": [
       "gender\n",
       "0        58552\n",
       "1        41430\n",
       "Other       18\n",
       "Name: count, dtype: int64"
      ]
     },
     "execution_count": 96,
     "metadata": {},
     "output_type": "execute_result"
    }
   ],
   "source": [
    "df['gender'].value_counts()"
   ]
  },
  {
   "cell_type": "code",
   "execution_count": 97,
   "id": "cd8b92af",
   "metadata": {},
   "outputs": [
    {
     "name": "stderr",
     "output_type": "stream",
     "text": [
      "C:\\Users\\Sande\\AppData\\Local\\Temp\\ipykernel_8456\\2326813397.py:1: FutureWarning: Downcasting behavior in `replace` is deprecated and will be removed in a future version. To retain the old behavior, explicitly call `result.infer_objects(copy=False)`. To opt-in to the future behavior, set `pd.set_option('future.no_silent_downcasting', True)`\n",
      "  df['gender'] = df['gender'].replace({\n"
     ]
    }
   ],
   "source": [
    "df['gender'] = df['gender'].replace({\n",
    "    'Female': 0,\n",
    "    'Male': 1,\n",
    "    'Other': 2\n",
    "})\n",
    "df['gender'] = df['gender'].astype(int)\n"
   ]
  },
  {
   "cell_type": "code",
   "execution_count": 98,
   "id": "5407e234",
   "metadata": {},
   "outputs": [],
   "source": [
    "df['smoking_history'] = df['smoking_history'].replace({\n",
    "    'No Info': 1,\n",
    "    'never': 2,\n",
    "    'former': 3,\n",
    "    'not current': 3,\n",
    "    'current': 4,\n",
    "    'ever': 4\n",
    "})\n",
    "df['smoking_history'] = df['smoking_history'].astype(int)\n"
   ]
  },
  {
   "cell_type": "code",
   "execution_count": 99,
   "id": "b7348adf",
   "metadata": {},
   "outputs": [
    {
     "data": {
      "application/vnd.microsoft.datawrangler.viewer.v0+json": {
       "columns": [
        {
         "name": "index",
         "rawType": "int64",
         "type": "integer"
        },
        {
         "name": "gender",
         "rawType": "int64",
         "type": "integer"
        },
        {
         "name": "age",
         "rawType": "float64",
         "type": "float"
        },
        {
         "name": "hypertension",
         "rawType": "int64",
         "type": "integer"
        },
        {
         "name": "heart_disease",
         "rawType": "int64",
         "type": "integer"
        },
        {
         "name": "smoking_history",
         "rawType": "int64",
         "type": "integer"
        },
        {
         "name": "bmi",
         "rawType": "float64",
         "type": "float"
        },
        {
         "name": "HbA1c_level",
         "rawType": "float64",
         "type": "float"
        },
        {
         "name": "blood_glucose_level",
         "rawType": "int64",
         "type": "integer"
        },
        {
         "name": "diabetes",
         "rawType": "int64",
         "type": "integer"
        }
       ],
       "conversionMethod": "pd.DataFrame",
       "ref": "3cef6ea7-7303-4e57-9715-a32eff97c0a7",
       "rows": [
        [
         "0",
         "0",
         "80.0",
         "0",
         "1",
         "2",
         "25.19",
         "6.6",
         "140",
         "0"
        ],
        [
         "1",
         "0",
         "54.0",
         "0",
         "0",
         "1",
         "27.32",
         "6.6",
         "80",
         "0"
        ],
        [
         "2",
         "1",
         "28.0",
         "0",
         "0",
         "2",
         "27.32",
         "5.7",
         "158",
         "0"
        ],
        [
         "3",
         "0",
         "36.0",
         "0",
         "0",
         "4",
         "23.45",
         "5.0",
         "155",
         "0"
        ],
        [
         "4",
         "1",
         "76.0",
         "1",
         "1",
         "4",
         "20.14",
         "4.8",
         "155",
         "0"
        ],
        [
         "5",
         "0",
         "20.0",
         "0",
         "0",
         "2",
         "27.32",
         "6.6",
         "85",
         "0"
        ],
        [
         "6",
         "0",
         "44.0",
         "0",
         "0",
         "2",
         "19.31",
         "6.5",
         "200",
         "1"
        ],
        [
         "7",
         "0",
         "79.0",
         "0",
         "0",
         "1",
         "23.86",
         "5.7",
         "85",
         "0"
        ],
        [
         "8",
         "1",
         "42.0",
         "0",
         "0",
         "2",
         "33.64",
         "4.8",
         "145",
         "0"
        ],
        [
         "9",
         "0",
         "32.0",
         "0",
         "0",
         "2",
         "27.32",
         "5.0",
         "100",
         "0"
        ],
        [
         "10",
         "0",
         "53.0",
         "0",
         "0",
         "2",
         "27.32",
         "6.1",
         "85",
         "0"
        ],
        [
         "11",
         "0",
         "54.0",
         "0",
         "0",
         "3",
         "54.7",
         "6.0",
         "100",
         "0"
        ],
        [
         "12",
         "0",
         "78.0",
         "0",
         "0",
         "3",
         "36.05",
         "5.0",
         "130",
         "0"
        ],
        [
         "13",
         "0",
         "67.0",
         "0",
         "0",
         "2",
         "25.69",
         "5.8",
         "200",
         "0"
        ],
        [
         "14",
         "0",
         "76.0",
         "0",
         "0",
         "1",
         "27.32",
         "5.0",
         "160",
         "0"
        ],
        [
         "15",
         "1",
         "78.0",
         "0",
         "0",
         "1",
         "27.32",
         "6.6",
         "126",
         "0"
        ],
        [
         "16",
         "1",
         "15.0",
         "0",
         "0",
         "2",
         "30.36",
         "6.1",
         "200",
         "0"
        ],
        [
         "17",
         "0",
         "42.0",
         "0",
         "0",
         "2",
         "24.48",
         "5.7",
         "158",
         "0"
        ],
        [
         "18",
         "0",
         "42.0",
         "0",
         "0",
         "1",
         "27.32",
         "5.7",
         "80",
         "0"
        ],
        [
         "19",
         "1",
         "37.0",
         "0",
         "0",
         "4",
         "25.72",
         "3.5",
         "159",
         "0"
        ],
        [
         "20",
         "1",
         "40.0",
         "0",
         "0",
         "4",
         "36.38",
         "6.0",
         "90",
         "0"
        ],
        [
         "21",
         "1",
         "5.0",
         "0",
         "0",
         "1",
         "18.8",
         "6.2",
         "85",
         "0"
        ],
        [
         "22",
         "0",
         "69.0",
         "0",
         "0",
         "2",
         "21.24",
         "4.8",
         "85",
         "0"
        ],
        [
         "23",
         "0",
         "72.0",
         "0",
         "1",
         "3",
         "27.94",
         "6.5",
         "130",
         "0"
        ],
        [
         "24",
         "0",
         "4.0",
         "0",
         "0",
         "1",
         "13.99",
         "4.0",
         "140",
         "0"
        ],
        [
         "25",
         "1",
         "30.0",
         "0",
         "0",
         "2",
         "33.76",
         "6.1",
         "126",
         "0"
        ],
        [
         "26",
         "1",
         "67.0",
         "0",
         "1",
         "3",
         "27.32",
         "6.5",
         "200",
         "1"
        ],
        [
         "27",
         "1",
         "40.0",
         "0",
         "0",
         "3",
         "27.85",
         "5.8",
         "80",
         "0"
        ],
        [
         "28",
         "1",
         "45.0",
         "1",
         "0",
         "2",
         "26.47",
         "4.0",
         "158",
         "0"
        ],
        [
         "29",
         "1",
         "43.0",
         "0",
         "0",
         "2",
         "26.08",
         "6.1",
         "155",
         "0"
        ],
        [
         "30",
         "0",
         "53.0",
         "0",
         "0",
         "1",
         "31.75",
         "4.0",
         "200",
         "0"
        ],
        [
         "31",
         "1",
         "50.0",
         "0",
         "0",
         "1",
         "25.15",
         "4.0",
         "145",
         "0"
        ],
        [
         "32",
         "0",
         "41.0",
         "0",
         "0",
         "4",
         "22.01",
         "6.2",
         "126",
         "0"
        ],
        [
         "33",
         "0",
         "20.0",
         "0",
         "0",
         "2",
         "22.19",
         "3.5",
         "100",
         "0"
        ],
        [
         "34",
         "0",
         "76.0",
         "0",
         "0",
         "2",
         "23.55",
         "5.0",
         "85",
         "0"
        ],
        [
         "35",
         "1",
         "5.0",
         "0",
         "0",
         "1",
         "15.1",
         "5.8",
         "85",
         "0"
        ],
        [
         "36",
         "0",
         "15.0",
         "0",
         "0",
         "1",
         "21.76",
         "4.5",
         "130",
         "0"
        ],
        [
         "37",
         "0",
         "26.0",
         "0",
         "0",
         "2",
         "21.22",
         "6.6",
         "200",
         "0"
        ],
        [
         "38",
         "1",
         "50.0",
         "1",
         "0",
         "4",
         "27.32",
         "5.7",
         "260",
         "1"
        ],
        [
         "39",
         "0",
         "34.0",
         "0",
         "0",
         "2",
         "56.43",
         "6.2",
         "200",
         "0"
        ],
        [
         "40",
         "1",
         "73.0",
         "0",
         "0",
         "3",
         "25.91",
         "9.0",
         "160",
         "1"
        ],
        [
         "41",
         "1",
         "5.0",
         "0",
         "0",
         "1",
         "27.32",
         "6.6",
         "130",
         "0"
        ],
        [
         "42",
         "0",
         "77.0",
         "1",
         "1",
         "2",
         "32.02",
         "5.0",
         "159",
         "0"
        ],
        [
         "43",
         "0",
         "66.0",
         "0",
         "0",
         "1",
         "29.3",
         "4.8",
         "159",
         "0"
        ],
        [
         "44",
         "0",
         "67.0",
         "0",
         "0",
         "1",
         "27.32",
         "3.5",
         "160",
         "0"
        ],
        [
         "45",
         "0",
         "44.0",
         "0",
         "0",
         "2",
         "24.93",
         "6.1",
         "100",
         "0"
        ],
        [
         "46",
         "0",
         "29.0",
         "0",
         "0",
         "2",
         "19.95",
         "5.0",
         "90",
         "0"
        ],
        [
         "47",
         "0",
         "60.0",
         "0",
         "0",
         "2",
         "18.03",
         "4.0",
         "159",
         "0"
        ],
        [
         "48",
         "0",
         "38.0",
         "0",
         "0",
         "2",
         "28.27",
         "6.2",
         "155",
         "0"
        ],
        [
         "49",
         "0",
         "3.0",
         "0",
         "0",
         "1",
         "19.27",
         "6.5",
         "100",
         "0"
        ]
       ],
       "shape": {
        "columns": 9,
        "rows": 100000
       }
      },
      "text/html": [
       "<div>\n",
       "<style scoped>\n",
       "    .dataframe tbody tr th:only-of-type {\n",
       "        vertical-align: middle;\n",
       "    }\n",
       "\n",
       "    .dataframe tbody tr th {\n",
       "        vertical-align: top;\n",
       "    }\n",
       "\n",
       "    .dataframe thead th {\n",
       "        text-align: right;\n",
       "    }\n",
       "</style>\n",
       "<table border=\"1\" class=\"dataframe\">\n",
       "  <thead>\n",
       "    <tr style=\"text-align: right;\">\n",
       "      <th></th>\n",
       "      <th>gender</th>\n",
       "      <th>age</th>\n",
       "      <th>hypertension</th>\n",
       "      <th>heart_disease</th>\n",
       "      <th>smoking_history</th>\n",
       "      <th>bmi</th>\n",
       "      <th>HbA1c_level</th>\n",
       "      <th>blood_glucose_level</th>\n",
       "      <th>diabetes</th>\n",
       "    </tr>\n",
       "  </thead>\n",
       "  <tbody>\n",
       "    <tr>\n",
       "      <th>0</th>\n",
       "      <td>0</td>\n",
       "      <td>80.0</td>\n",
       "      <td>0</td>\n",
       "      <td>1</td>\n",
       "      <td>2</td>\n",
       "      <td>25.19</td>\n",
       "      <td>6.6</td>\n",
       "      <td>140</td>\n",
       "      <td>0</td>\n",
       "    </tr>\n",
       "    <tr>\n",
       "      <th>1</th>\n",
       "      <td>0</td>\n",
       "      <td>54.0</td>\n",
       "      <td>0</td>\n",
       "      <td>0</td>\n",
       "      <td>1</td>\n",
       "      <td>27.32</td>\n",
       "      <td>6.6</td>\n",
       "      <td>80</td>\n",
       "      <td>0</td>\n",
       "    </tr>\n",
       "    <tr>\n",
       "      <th>2</th>\n",
       "      <td>1</td>\n",
       "      <td>28.0</td>\n",
       "      <td>0</td>\n",
       "      <td>0</td>\n",
       "      <td>2</td>\n",
       "      <td>27.32</td>\n",
       "      <td>5.7</td>\n",
       "      <td>158</td>\n",
       "      <td>0</td>\n",
       "    </tr>\n",
       "    <tr>\n",
       "      <th>3</th>\n",
       "      <td>0</td>\n",
       "      <td>36.0</td>\n",
       "      <td>0</td>\n",
       "      <td>0</td>\n",
       "      <td>4</td>\n",
       "      <td>23.45</td>\n",
       "      <td>5.0</td>\n",
       "      <td>155</td>\n",
       "      <td>0</td>\n",
       "    </tr>\n",
       "    <tr>\n",
       "      <th>4</th>\n",
       "      <td>1</td>\n",
       "      <td>76.0</td>\n",
       "      <td>1</td>\n",
       "      <td>1</td>\n",
       "      <td>4</td>\n",
       "      <td>20.14</td>\n",
       "      <td>4.8</td>\n",
       "      <td>155</td>\n",
       "      <td>0</td>\n",
       "    </tr>\n",
       "    <tr>\n",
       "      <th>...</th>\n",
       "      <td>...</td>\n",
       "      <td>...</td>\n",
       "      <td>...</td>\n",
       "      <td>...</td>\n",
       "      <td>...</td>\n",
       "      <td>...</td>\n",
       "      <td>...</td>\n",
       "      <td>...</td>\n",
       "      <td>...</td>\n",
       "    </tr>\n",
       "    <tr>\n",
       "      <th>99995</th>\n",
       "      <td>0</td>\n",
       "      <td>80.0</td>\n",
       "      <td>0</td>\n",
       "      <td>0</td>\n",
       "      <td>1</td>\n",
       "      <td>27.32</td>\n",
       "      <td>6.2</td>\n",
       "      <td>90</td>\n",
       "      <td>0</td>\n",
       "    </tr>\n",
       "    <tr>\n",
       "      <th>99996</th>\n",
       "      <td>0</td>\n",
       "      <td>2.0</td>\n",
       "      <td>0</td>\n",
       "      <td>0</td>\n",
       "      <td>1</td>\n",
       "      <td>17.37</td>\n",
       "      <td>6.5</td>\n",
       "      <td>100</td>\n",
       "      <td>0</td>\n",
       "    </tr>\n",
       "    <tr>\n",
       "      <th>99997</th>\n",
       "      <td>1</td>\n",
       "      <td>66.0</td>\n",
       "      <td>0</td>\n",
       "      <td>0</td>\n",
       "      <td>3</td>\n",
       "      <td>27.83</td>\n",
       "      <td>5.7</td>\n",
       "      <td>155</td>\n",
       "      <td>0</td>\n",
       "    </tr>\n",
       "    <tr>\n",
       "      <th>99998</th>\n",
       "      <td>0</td>\n",
       "      <td>24.0</td>\n",
       "      <td>0</td>\n",
       "      <td>0</td>\n",
       "      <td>2</td>\n",
       "      <td>35.42</td>\n",
       "      <td>4.0</td>\n",
       "      <td>100</td>\n",
       "      <td>0</td>\n",
       "    </tr>\n",
       "    <tr>\n",
       "      <th>99999</th>\n",
       "      <td>0</td>\n",
       "      <td>57.0</td>\n",
       "      <td>0</td>\n",
       "      <td>0</td>\n",
       "      <td>4</td>\n",
       "      <td>22.43</td>\n",
       "      <td>6.6</td>\n",
       "      <td>90</td>\n",
       "      <td>0</td>\n",
       "    </tr>\n",
       "  </tbody>\n",
       "</table>\n",
       "<p>100000 rows × 9 columns</p>\n",
       "</div>"
      ],
      "text/plain": [
       "       gender   age  hypertension  heart_disease  smoking_history    bmi  \\\n",
       "0           0  80.0             0              1                2  25.19   \n",
       "1           0  54.0             0              0                1  27.32   \n",
       "2           1  28.0             0              0                2  27.32   \n",
       "3           0  36.0             0              0                4  23.45   \n",
       "4           1  76.0             1              1                4  20.14   \n",
       "...       ...   ...           ...            ...              ...    ...   \n",
       "99995       0  80.0             0              0                1  27.32   \n",
       "99996       0   2.0             0              0                1  17.37   \n",
       "99997       1  66.0             0              0                3  27.83   \n",
       "99998       0  24.0             0              0                2  35.42   \n",
       "99999       0  57.0             0              0                4  22.43   \n",
       "\n",
       "       HbA1c_level  blood_glucose_level  diabetes  \n",
       "0              6.6                  140         0  \n",
       "1              6.6                   80         0  \n",
       "2              5.7                  158         0  \n",
       "3              5.0                  155         0  \n",
       "4              4.8                  155         0  \n",
       "...            ...                  ...       ...  \n",
       "99995          6.2                   90         0  \n",
       "99996          6.5                  100         0  \n",
       "99997          5.7                  155         0  \n",
       "99998          4.0                  100         0  \n",
       "99999          6.6                   90         0  \n",
       "\n",
       "[100000 rows x 9 columns]"
      ]
     },
     "execution_count": 99,
     "metadata": {},
     "output_type": "execute_result"
    }
   ],
   "source": [
    "df"
   ]
  },
  {
   "cell_type": "code",
   "execution_count": 100,
   "id": "91bcc0b4",
   "metadata": {},
   "outputs": [],
   "source": [
    "train_data, test_data = train_test_split(df, test_size=0.2, random_state=42)"
   ]
  },
  {
   "cell_type": "code",
   "execution_count": 101,
   "id": "35ebfd4f",
   "metadata": {},
   "outputs": [],
   "source": [
    "def standard_df(df):\n",
    "\n",
    "    df = df.select_dtypes(include=['int64', 'float64'])\n",
    "    scaler = StandardScaler()\n",
    "    scaler_array = scaler.fit_transform(df)\n",
    "    scaled_df = pd.DataFrame(scaler_array, columns = df.columns, index = df.index)\n",
    "    return scaled_df\n",
    "\n",
    "train_scaler_data = standard_df(train_data)   \n",
    "test_scaler_data = standard_df(test_data)"
   ]
  },
  {
   "cell_type": "code",
   "execution_count": 105,
   "id": "652610d2",
   "metadata": {},
   "outputs": [],
   "source": [
    "X_train = train_data.iloc[:, 0:-1].values\n",
    "y_train = train_data.iloc[:, -1].values\n",
    "\n",
    "X_test = test_data.iloc[:,0:-1].values\n",
    "y_test = test_data.iloc[:, -1].values"
   ]
  },
  {
   "cell_type": "code",
   "execution_count": 109,
   "id": "188ebae4",
   "metadata": {},
   "outputs": [],
   "source": [
    "rfc = RandomForestClassifier()\n",
    "rfc.fit(X_train, y_train)\n",
    "pickle.dump(rfc, open(\"model.pkl\", \"wb\"))"
   ]
  },
  {
   "cell_type": "code",
   "execution_count": 110,
   "id": "bf3235c2",
   "metadata": {},
   "outputs": [
    {
     "name": "stdout",
     "output_type": "stream",
     "text": [
      "0.97025\n",
      "0.689695550351288\n",
      "0.9477071600965407\n",
      "0.7983734327346662\n"
     ]
    }
   ],
   "source": [
    "model = pickle.load(open('model.pkl', 'rb'))\n",
    "y_pred = model.predict(X_test)\n",
    "acc = accuracy_score(y_pred, y_test)\n",
    "precision = precision_score(y_pred, y_test)\n",
    "recall = recall_score(y_pred, y_test)\n",
    "f1 = f1_score(y_pred, y_test)\n",
    "\n",
    "print(acc)\n",
    "print(precision)\n",
    "print(recall)\n",
    "print(f1)"
   ]
  },
  {
   "cell_type": "code",
   "execution_count": null,
   "id": "3e131a5d",
   "metadata": {},
   "outputs": [],
   "source": []
  }
 ],
 "metadata": {
  "kernelspec": {
   "display_name": ".venv",
   "language": "python",
   "name": "python3"
  },
  "language_info": {
   "codemirror_mode": {
    "name": "ipython",
    "version": 3
   },
   "file_extension": ".py",
   "mimetype": "text/x-python",
   "name": "python",
   "nbconvert_exporter": "python",
   "pygments_lexer": "ipython3",
   "version": "3.13.3"
  }
 },
 "nbformat": 4,
 "nbformat_minor": 5
}
